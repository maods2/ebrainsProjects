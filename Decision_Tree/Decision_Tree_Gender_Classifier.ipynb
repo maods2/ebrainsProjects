{
 "cells": [
  {
   "cell_type": "code",
   "execution_count": 2,
   "metadata": {},
   "outputs": [],
   "source": [
    "# Contrução de uma árvore de decisão genêrica utilizando\n",
    "# a biblioteca sklearn, onde o objetivo é prever se um\n",
    "# indivíduo é do sexo masculino ou feminino, levando em\n",
    "# consideração características como [Altura, Peso, Tamanho_Pé]\n",
    "\n",
    "from sklearn import tree\n",
    "from sklearn.model_selection import train_test_split"
   ]
  },
  {
   "cell_type": "code",
   "execution_count": 3,
   "metadata": {},
   "outputs": [],
   "source": [
    "# Valores arbitrados para serem a entrada do modelo de árvore de decisão\n",
    "# Cada um dos 3 valores dentro das listas são características do objeto 'pessoa' [Altura, Peso, Tamanho_Pé]\n",
    "X = [[181,80,44], [177, 70, 43], [160, 60, 38], [154, 54, 37],\n",
    "     [166,65,40], [190,90,47], [175,64,39],[177,70,40],[159,55,37],\n",
    "     [177,75,42]]\n",
    "\n",
    "# Valores arbitrados para serem a saída do modelo de árvore de decisão\n",
    "Y = ['male', 'female', 'female', 'female', 'male', 'male', 'male'\n",
    "     'female', 'male', 'female', 'male']\n"
   ]
  },
  {
   "cell_type": "code",
   "execution_count": 4,
   "metadata": {},
   "outputs": [
    {
     "name": "stdout",
     "output_type": "stream",
     "text": [
      "0.6666666666666666\n"
     ]
    }
   ],
   "source": [
    "# Separação entre dados Treinamento/Teste : 30% serão dados de Teste\n",
    "data_train, data_test, output_train, output_test = train_test_split(X, Y, test_size = 0.3, random_state = 50)\n",
    "\n",
    "# Define árvore de decisão em 'clf'\n",
    "clf = tree.DecisionTreeClassifier()\n",
    "\n",
    "# Treina árvore de decisão com os dados de treinamento \n",
    "clf = clf.fit(data_train,output_train)\n",
    "\n",
    "# Cálcula a precisão da árvore com os dados de teste\n",
    "score = clf.score(data_test,output_test)\n",
    "print (score)"
   ]
  },
  {
   "cell_type": "code",
   "execution_count": 5,
   "metadata": {},
   "outputs": [
    {
     "name": "stdout",
     "output_type": "stream",
     "text": [
      "['female']\n"
     ]
    }
   ],
   "source": [
    "# Prevê gênero a partir de dados arbitrados pelo usuário\n",
    "prediction = clf.predict([[170,60,39]])\n",
    "print (prediction)"
   ]
  }
 ],
 "metadata": {
  "kernelspec": {
   "display_name": "Python 3",
   "language": "python",
   "name": "python3"
  },
  "language_info": {
   "codemirror_mode": {
    "name": "ipython",
    "version": 3
   },
   "file_extension": ".py",
   "mimetype": "text/x-python",
   "name": "python",
   "nbconvert_exporter": "python",
   "pygments_lexer": "ipython3",
   "version": "3.7.3"
  }
 },
 "nbformat": 4,
 "nbformat_minor": 2
}
